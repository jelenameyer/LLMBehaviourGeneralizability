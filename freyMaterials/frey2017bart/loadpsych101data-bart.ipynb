{
 "cells": [
  {
   "cell_type": "markdown",
   "id": "96ea100f",
   "metadata": {},
   "source": [
    "# Load BART data from Huggingface repository\n",
    "- We load full hf dataset, then subset BART data (Frey et al. 2017)\n",
    "- We save BART data in psych 201 format as jsonl for prompting"
   ]
  },
  {
   "cell_type": "code",
   "execution_count": 2,
   "id": "f034358e",
   "metadata": {},
   "outputs": [],
   "source": [
    "from datasets import load_dataset\n",
    "from datasets import DatasetDict\n",
    "import pandas as pd\n",
    "\n",
    "data = load_dataset('marcelbinz/Psych-101')"
   ]
  },
  {
   "cell_type": "code",
   "execution_count": 3,
   "id": "359900fd",
   "metadata": {},
   "outputs": [],
   "source": [
    "# Convert to pandas df\n",
    "df = data[\"train\"].to_pandas()"
   ]
  },
  {
   "cell_type": "code",
   "execution_count": 4,
   "id": "3e3e6082",
   "metadata": {},
   "outputs": [],
   "source": [
    "# Look for correct experiment to filter by experiment name\n",
    "#df[\"experiment\"].unique()\n",
    "#  datasets I need: 'frey2017cct/exp1.csv', 'frey2017risk/exp1.csv'"
   ]
  },
  {
   "cell_type": "code",
   "execution_count": 5,
   "id": "b310d415",
   "metadata": {},
   "outputs": [
    {
     "name": "stderr",
     "output_type": "stream",
     "text": [
      "/var/folders/g6/6tx7kz_51_92m63qx0q2c2lw0000gn/T/ipykernel_23847/402814816.py:2: SettingWithCopyWarning: \n",
      "A value is trying to be set on a copy of a slice from a DataFrame.\n",
      "Try using .loc[row_indexer,col_indexer] = value instead\n",
      "\n",
      "See the caveats in the documentation: https://pandas.pydata.org/pandas-docs/stable/user_guide/indexing.html#returning-a-view-versus-a-copy\n",
      "  bart_data[\"experiment\"] = \"BART\"\n"
     ]
    }
   ],
   "source": [
    "bart_data = df[df[\"experiment\"] == 'frey2017risk/exp1.csv']\n",
    "bart_data[\"experiment\"] = \"BART\"\n",
    "\n",
    "# Save only the selected columns to JSONL, no index\n",
    "bart_data[[\"participant\", \"experiment\", \"text\" ]].to_json(\n",
    "    \"prompts_bart.jsonl\",\n",
    "    orient=\"records\",   # one object per row\n",
    "    lines=True,         # newline-delimited\n",
    "    force_ascii=False   # keep UTF-8 characters readable\n",
    ")"
   ]
  },
  {
   "cell_type": "code",
   "execution_count": 6,
   "id": "699d599a",
   "metadata": {},
   "outputs": [
    {
     "data": {
      "text/html": [
       "<div>\n",
       "<style scoped>\n",
       "    .dataframe tbody tr th:only-of-type {\n",
       "        vertical-align: middle;\n",
       "    }\n",
       "\n",
       "    .dataframe tbody tr th {\n",
       "        vertical-align: top;\n",
       "    }\n",
       "\n",
       "    .dataframe thead th {\n",
       "        text-align: right;\n",
       "    }\n",
       "</style>\n",
       "<table border=\"1\" class=\"dataframe\">\n",
       "  <thead>\n",
       "    <tr style=\"text-align: right;\">\n",
       "      <th></th>\n",
       "      <th>text</th>\n",
       "      <th>experiment</th>\n",
       "      <th>participant</th>\n",
       "    </tr>\n",
       "  </thead>\n",
       "  <tbody>\n",
       "    <tr>\n",
       "      <th>5200</th>\n",
       "      <td>Throughout the task, you will be presented wit...</td>\n",
       "      <td>BART</td>\n",
       "      <td>0</td>\n",
       "    </tr>\n",
       "    <tr>\n",
       "      <th>5201</th>\n",
       "      <td>Throughout the task, you will be presented wit...</td>\n",
       "      <td>BART</td>\n",
       "      <td>1</td>\n",
       "    </tr>\n",
       "    <tr>\n",
       "      <th>5202</th>\n",
       "      <td>Throughout the task, you will be presented wit...</td>\n",
       "      <td>BART</td>\n",
       "      <td>2</td>\n",
       "    </tr>\n",
       "    <tr>\n",
       "      <th>5203</th>\n",
       "      <td>Throughout the task, you will be presented wit...</td>\n",
       "      <td>BART</td>\n",
       "      <td>3</td>\n",
       "    </tr>\n",
       "    <tr>\n",
       "      <th>5204</th>\n",
       "      <td>Throughout the task, you will be presented wit...</td>\n",
       "      <td>BART</td>\n",
       "      <td>4</td>\n",
       "    </tr>\n",
       "    <tr>\n",
       "      <th>...</th>\n",
       "      <td>...</td>\n",
       "      <td>...</td>\n",
       "      <td>...</td>\n",
       "    </tr>\n",
       "    <tr>\n",
       "      <th>6526</th>\n",
       "      <td>Throughout the task, you will be presented wit...</td>\n",
       "      <td>BART</td>\n",
       "      <td>1502</td>\n",
       "    </tr>\n",
       "    <tr>\n",
       "      <th>6527</th>\n",
       "      <td>Throughout the task, you will be presented wit...</td>\n",
       "      <td>BART</td>\n",
       "      <td>1503</td>\n",
       "    </tr>\n",
       "    <tr>\n",
       "      <th>6528</th>\n",
       "      <td>Throughout the task, you will be presented wit...</td>\n",
       "      <td>BART</td>\n",
       "      <td>1504</td>\n",
       "    </tr>\n",
       "    <tr>\n",
       "      <th>6529</th>\n",
       "      <td>Throughout the task, you will be presented wit...</td>\n",
       "      <td>BART</td>\n",
       "      <td>1505</td>\n",
       "    </tr>\n",
       "    <tr>\n",
       "      <th>6530</th>\n",
       "      <td>Throughout the task, you will be presented wit...</td>\n",
       "      <td>BART</td>\n",
       "      <td>1506</td>\n",
       "    </tr>\n",
       "  </tbody>\n",
       "</table>\n",
       "<p>1331 rows × 3 columns</p>\n",
       "</div>"
      ],
      "text/plain": [
       "                                                   text experiment participant\n",
       "5200  Throughout the task, you will be presented wit...       BART           0\n",
       "5201  Throughout the task, you will be presented wit...       BART           1\n",
       "5202  Throughout the task, you will be presented wit...       BART           2\n",
       "5203  Throughout the task, you will be presented wit...       BART           3\n",
       "5204  Throughout the task, you will be presented wit...       BART           4\n",
       "...                                                 ...        ...         ...\n",
       "6526  Throughout the task, you will be presented wit...       BART        1502\n",
       "6527  Throughout the task, you will be presented wit...       BART        1503\n",
       "6528  Throughout the task, you will be presented wit...       BART        1504\n",
       "6529  Throughout the task, you will be presented wit...       BART        1505\n",
       "6530  Throughout the task, you will be presented wit...       BART        1506\n",
       "\n",
       "[1331 rows x 3 columns]"
      ]
     },
     "execution_count": 6,
     "metadata": {},
     "output_type": "execute_result"
    }
   ],
   "source": [
    "bart_data"
   ]
  }
 ],
 "metadata": {
  "kernelspec": {
   "display_name": "projectenv",
   "language": "python",
   "name": "python3"
  },
  "language_info": {
   "codemirror_mode": {
    "name": "ipython",
    "version": 3
   },
   "file_extension": ".py",
   "mimetype": "text/x-python",
   "name": "python",
   "nbconvert_exporter": "python",
   "pygments_lexer": "ipython3",
   "version": "3.11.13"
  }
 },
 "nbformat": 4,
 "nbformat_minor": 5
}
