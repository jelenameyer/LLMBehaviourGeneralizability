{
 "cells": [
  {
   "cell_type": "markdown",
   "id": "8390790b",
   "metadata": {},
   "source": [
    "# Load CCT data from Huggingface repository\n",
    "- We load full hf dataset, then subset CCT data (Frey et al. 2017)\n",
    "- We save BART data in psych 201 format as jsonl for prompting"
   ]
  },
  {
   "cell_type": "code",
   "execution_count": 1,
   "id": "f034358e",
   "metadata": {},
   "outputs": [
    {
     "name": "stderr",
     "output_type": "stream",
     "text": [
      "/opt/miniconda3/envs/projectenv/lib/python3.11/site-packages/tqdm/auto.py:21: TqdmWarning: IProgress not found. Please update jupyter and ipywidgets. See https://ipywidgets.readthedocs.io/en/stable/user_install.html\n",
      "  from .autonotebook import tqdm as notebook_tqdm\n"
     ]
    }
   ],
   "source": [
    "from datasets import load_dataset\n",
    "from datasets import DatasetDict\n",
    "import pandas as pd\n",
    "\n",
    "data = load_dataset('marcelbinz/Psych-101')"
   ]
  },
  {
   "cell_type": "code",
   "execution_count": 2,
   "id": "359900fd",
   "metadata": {},
   "outputs": [],
   "source": [
    "# Convert to pandas df\n",
    "df = data[\"train\"].to_pandas()"
   ]
  },
  {
   "cell_type": "code",
   "execution_count": 3,
   "id": "3e3e6082",
   "metadata": {},
   "outputs": [],
   "source": [
    "# Look for correct experiment to filter by experiment name\n",
    "#df[\"experiment\"].unique()\n",
    "#  datasets I need: 'frey2017cct/exp1.csv', 'frey2017risk/exp1.csv'"
   ]
  },
  {
   "cell_type": "code",
   "execution_count": 4,
   "id": "ec7d9221",
   "metadata": {},
   "outputs": [
    {
     "name": "stderr",
     "output_type": "stream",
     "text": [
      "/var/folders/g6/6tx7kz_51_92m63qx0q2c2lw0000gn/T/ipykernel_23910/3821966321.py:2: SettingWithCopyWarning: \n",
      "A value is trying to be set on a copy of a slice from a DataFrame.\n",
      "Try using .loc[row_indexer,col_indexer] = value instead\n",
      "\n",
      "See the caveats in the documentation: https://pandas.pydata.org/pandas-docs/stable/user_guide/indexing.html#returning-a-view-versus-a-copy\n",
      "  cct_data[\"experiment\"] = \"CCT\"\n"
     ]
    }
   ],
   "source": [
    "cct_data = df[df[\"experiment\"] == 'frey2017cct/exp1.csv']\n",
    "cct_data[\"experiment\"] = \"CCT\"\n",
    "\n",
    "# Save only the selected columns to JSONL, no index\n",
    "cct_data[[\"participant\", \"experiment\", \"text\" ]].to_json(\n",
    "    \"prompts_cct.jsonl\",\n",
    "    orient=\"records\",   # one object per row\n",
    "    lines=True,         # newline-delimited\n",
    "    force_ascii=False   # keep UTF-8 characters readable\n",
    ")\n"
   ]
  },
  {
   "cell_type": "code",
   "execution_count": 5,
   "id": "3837bb53",
   "metadata": {},
   "outputs": [
    {
     "data": {
      "text/html": [
       "<div>\n",
       "<style scoped>\n",
       "    .dataframe tbody tr th:only-of-type {\n",
       "        vertical-align: middle;\n",
       "    }\n",
       "\n",
       "    .dataframe tbody tr th {\n",
       "        vertical-align: top;\n",
       "    }\n",
       "\n",
       "    .dataframe thead th {\n",
       "        text-align: right;\n",
       "    }\n",
       "</style>\n",
       "<table border=\"1\" class=\"dataframe\">\n",
       "  <thead>\n",
       "    <tr style=\"text-align: right;\">\n",
       "      <th></th>\n",
       "      <th>text</th>\n",
       "      <th>experiment</th>\n",
       "      <th>participant</th>\n",
       "    </tr>\n",
       "  </thead>\n",
       "  <tbody>\n",
       "    <tr>\n",
       "      <th>3832</th>\n",
       "      <td>You will play a games with 84 rounds.\\nIn each...</td>\n",
       "      <td>CCT</td>\n",
       "      <td>64000401</td>\n",
       "    </tr>\n",
       "    <tr>\n",
       "      <th>3833</th>\n",
       "      <td>You will play a games with 84 rounds.\\nIn each...</td>\n",
       "      <td>CCT</td>\n",
       "      <td>64006401</td>\n",
       "    </tr>\n",
       "    <tr>\n",
       "      <th>3834</th>\n",
       "      <td>You will play a games with 84 rounds.\\nIn each...</td>\n",
       "      <td>CCT</td>\n",
       "      <td>64006901</td>\n",
       "    </tr>\n",
       "    <tr>\n",
       "      <th>3835</th>\n",
       "      <td>You will play a games with 84 rounds.\\nIn each...</td>\n",
       "      <td>CCT</td>\n",
       "      <td>64007901</td>\n",
       "    </tr>\n",
       "    <tr>\n",
       "      <th>3836</th>\n",
       "      <td>You will play a games with 84 rounds.\\nIn each...</td>\n",
       "      <td>CCT</td>\n",
       "      <td>64008701</td>\n",
       "    </tr>\n",
       "    <tr>\n",
       "      <th>...</th>\n",
       "      <td>...</td>\n",
       "      <td>...</td>\n",
       "      <td>...</td>\n",
       "    </tr>\n",
       "    <tr>\n",
       "      <th>5195</th>\n",
       "      <td>You will play a games with 84 rounds.\\nIn each...</td>\n",
       "      <td>CCT</td>\n",
       "      <td>68050801</td>\n",
       "    </tr>\n",
       "    <tr>\n",
       "      <th>5196</th>\n",
       "      <td>You will play a games with 84 rounds.\\nIn each...</td>\n",
       "      <td>CCT</td>\n",
       "      <td>68050901</td>\n",
       "    </tr>\n",
       "    <tr>\n",
       "      <th>5197</th>\n",
       "      <td>You will play a games with 84 rounds.\\nIn each...</td>\n",
       "      <td>CCT</td>\n",
       "      <td>68051101</td>\n",
       "    </tr>\n",
       "    <tr>\n",
       "      <th>5198</th>\n",
       "      <td>You will play a games with 84 rounds.\\nIn each...</td>\n",
       "      <td>CCT</td>\n",
       "      <td>68051301</td>\n",
       "    </tr>\n",
       "    <tr>\n",
       "      <th>5199</th>\n",
       "      <td>You will play a games with 84 rounds.\\nIn each...</td>\n",
       "      <td>CCT</td>\n",
       "      <td>68051401</td>\n",
       "    </tr>\n",
       "  </tbody>\n",
       "</table>\n",
       "<p>1368 rows × 3 columns</p>\n",
       "</div>"
      ],
      "text/plain": [
       "                                                   text experiment participant\n",
       "3832  You will play a games with 84 rounds.\\nIn each...        CCT    64000401\n",
       "3833  You will play a games with 84 rounds.\\nIn each...        CCT    64006401\n",
       "3834  You will play a games with 84 rounds.\\nIn each...        CCT    64006901\n",
       "3835  You will play a games with 84 rounds.\\nIn each...        CCT    64007901\n",
       "3836  You will play a games with 84 rounds.\\nIn each...        CCT    64008701\n",
       "...                                                 ...        ...         ...\n",
       "5195  You will play a games with 84 rounds.\\nIn each...        CCT    68050801\n",
       "5196  You will play a games with 84 rounds.\\nIn each...        CCT    68050901\n",
       "5197  You will play a games with 84 rounds.\\nIn each...        CCT    68051101\n",
       "5198  You will play a games with 84 rounds.\\nIn each...        CCT    68051301\n",
       "5199  You will play a games with 84 rounds.\\nIn each...        CCT    68051401\n",
       "\n",
       "[1368 rows x 3 columns]"
      ]
     },
     "execution_count": 5,
     "metadata": {},
     "output_type": "execute_result"
    }
   ],
   "source": [
    "cct_data"
   ]
  }
 ],
 "metadata": {
  "kernelspec": {
   "display_name": "projectenv",
   "language": "python",
   "name": "python3"
  },
  "language_info": {
   "codemirror_mode": {
    "name": "ipython",
    "version": 3
   },
   "file_extension": ".py",
   "mimetype": "text/x-python",
   "name": "python",
   "nbconvert_exporter": "python",
   "pygments_lexer": "ipython3",
   "version": "3.11.13"
  }
 },
 "nbformat": 4,
 "nbformat_minor": 5
}
